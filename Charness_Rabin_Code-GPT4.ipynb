{
 "cells": [
  {
   "cell_type": "code",
   "execution_count": 1,
   "id": "eb5e24d9",
   "metadata": {
    "scrolled": false
   },
   "outputs": [
    {
     "name": "stdout",
     "output_type": "stream",
     "text": [
      "Requirement already satisfied: python-dotenv in c:\\users\\gabri\\miniconda3\\envs\\learning\\lib\\site-packages (0.21.1)\n",
      "Requirement already satisfied: openai in c:\\users\\gabri\\miniconda3\\envs\\learning\\lib\\site-packages (0.27.2)\n",
      "Requirement already satisfied: tqdm in c:\\users\\gabri\\miniconda3\\envs\\learning\\lib\\site-packages (from openai) (4.64.1)\n",
      "Requirement already satisfied: aiohttp in c:\\users\\gabri\\miniconda3\\envs\\learning\\lib\\site-packages (from openai) (3.8.3)\n",
      "Requirement already satisfied: requests>=2.20 in c:\\users\\gabri\\miniconda3\\envs\\learning\\lib\\site-packages (from openai) (2.28.2)\n",
      "Requirement already satisfied: certifi>=2017.4.17 in c:\\users\\gabri\\miniconda3\\envs\\learning\\lib\\site-packages (from requests>=2.20->openai) (2022.12.7)\n",
      "Requirement already satisfied: urllib3<1.27,>=1.21.1 in c:\\users\\gabri\\miniconda3\\envs\\learning\\lib\\site-packages (from requests>=2.20->openai) (1.26.14)\n",
      "Requirement already satisfied: idna<4,>=2.5 in c:\\users\\gabri\\miniconda3\\envs\\learning\\lib\\site-packages (from requests>=2.20->openai) (3.4)\n",
      "Requirement already satisfied: charset-normalizer<4,>=2 in c:\\users\\gabri\\miniconda3\\envs\\learning\\lib\\site-packages (from requests>=2.20->openai) (2.1.1)\n",
      "Requirement already satisfied: yarl<2.0,>=1.0 in c:\\users\\gabri\\miniconda3\\envs\\learning\\lib\\site-packages (from aiohttp->openai) (1.8.2)\n",
      "Requirement already satisfied: attrs>=17.3.0 in c:\\users\\gabri\\miniconda3\\envs\\learning\\lib\\site-packages (from aiohttp->openai) (22.2.0)\n",
      "Requirement already satisfied: frozenlist>=1.1.1 in c:\\users\\gabri\\miniconda3\\envs\\learning\\lib\\site-packages (from aiohttp->openai) (1.3.3)\n",
      "Requirement already satisfied: aiosignal>=1.1.2 in c:\\users\\gabri\\miniconda3\\envs\\learning\\lib\\site-packages (from aiohttp->openai) (1.3.1)\n",
      "Requirement already satisfied: multidict<7.0,>=4.5 in c:\\users\\gabri\\miniconda3\\envs\\learning\\lib\\site-packages (from aiohttp->openai) (6.0.4)\n",
      "Requirement already satisfied: async-timeout<5.0,>=4.0.0a3 in c:\\users\\gabri\\miniconda3\\envs\\learning\\lib\\site-packages (from aiohttp->openai) (4.0.2)\n",
      "Requirement already satisfied: colorama in c:\\users\\gabri\\miniconda3\\envs\\learning\\lib\\site-packages (from tqdm->openai) (0.4.6)\n",
      "Requirement already satisfied: openpyxl in c:\\users\\gabri\\miniconda3\\envs\\learning\\lib\\site-packages (3.1.0)\n",
      "Requirement already satisfied: et-xmlfile in c:\\users\\gabri\\miniconda3\\envs\\learning\\lib\\site-packages (from openpyxl) (1.1.0)\n"
     ]
    }
   ],
   "source": [
    "# Install dependencies\n",
    "!pip install python-dotenv\n",
    "!pip install openai\n",
    "!pip install openpyxl\n",
    "!pip uninstall openai"
   ]
  },
  {
   "cell_type": "code",
   "execution_count": 1,
   "id": "8e5769b3",
   "metadata": {},
   "outputs": [],
   "source": [
    "import os\n",
    "\n",
    "import dotenv\n",
    "import json\n",
    "import re\n",
    "import openai\n",
    "import time\n",
    "import sqlite3\n",
    "import json\n",
    "\n",
    "from dotenv import load_dotenv\n",
    "load_dotenv()\n",
    "\n",
    "from threading import Thread\n",
    "\n",
    "openai.api_key = ('') # Set api key\n",
    "\n",
    "MAX_FAILURES = 4\n",
    "\n",
    "scenarios = dict({ \n",
    "    \"Berk29\": ((400, 400), (750, 400)),\n",
    "    \"Barc2\": ((400, 400), (750, 375)),\n",
    "    \"Berk23\": ((800, 200), (0, 0)),\n",
    "    \"Barc8\": ((300, 600), (700, 500)),\n",
    "    \"Berk15\": ((200, 700), (600, 600)),\n",
    "    \"Berk26\":((0, 800), (400, 400)),\n",
    "    \"Gabe2\" : ((200, 800), (600, 700)), # Two more scenarios\n",
    "    \"Gabe3\" : ((0, 800), (410, 390))\n",
    "})\n",
    "\n",
    "def create_prompt(scenario, personality, author):\n",
    "    left_a, left_b = scenario[0]\n",
    "    right_a, right_b = scenario[1]\n",
    "    return f\"\"\"You are the fictional {personality}. \n",
    "- Your task is to make a decision in a game that determines a payment to you and Person A.\n",
    "- Person A has no choice in this game. You and Person A do not meet and will remain anonymous.\n",
    "- Make your decision using what you know of {personality} from the original {author} work and all subsequent commentary.\n",
    "- In this game you have two options:\n",
    "\n",
    "Option Left: Person A receives {left_a}, and you receive {left_b}, \n",
    "Option Right: Person A receives {right_a}, and you receive {right_b}, \n",
    "\n",
    "What do you choose, with one word [Left, Right]?\n",
    "\n",
    "Output two columns: 1) the choice you made [left or right], 2) the amount you receive. Do not output anything else.  An example of the format of the output is:  Right, 700\n",
    "\"\"\"\n",
    "\n",
    "\n",
    "\n",
    "def get_decision(scenario, personality, author, scenario_name, model):\n",
    "    prompt = create_prompt(scenario, personality, author)\n",
    "    failure_count = 0\n",
    "    message_history = []\n",
    "    message_history.append({\"role\":\"user\", \"content\": prompt})\n",
    "    # Get response\n",
    "    completion = openai.ChatCompletion.create(\n",
    "        model='gpt-4',\n",
    "        messages=message_history,\n",
    "    )\n",
    "    reply_content1 = completion.choices[0].message.content\n",
    "\n",
    "    return dict({\"raw_reply\": reply_content1,\n",
    "                 \"choice\": \"Left\" if \"left\" in reply_content1.lower() else \"Right\", \n",
    "                 \"scenario\": scenario,\n",
    "                 \"personality\":personality, # Character\n",
    "                 \"model\":model,\n",
    "                 \"scenario_name\":scenario_name,\n",
    "                 \"prompt\":prompt\n",
    "                })\n"
   ]
  },
  {
   "cell_type": "code",
   "execution_count": 2,
   "id": "db522328",
   "metadata": {},
   "outputs": [
    {
     "name": "stdout",
     "output_type": "stream",
     "text": [
      "[({'raw_reply': 'Right, 400', 'choice': 'Right', 'scenario': ((400, 400), (750, 400)), 'personality': 'Theo Decker', 'model': 'gpt-4', 'scenario_name': 'Berk29', 'prompt': 'You are the fictional Theo Decker. \\n- Your task is to make a decision in a game that determines a payment to you and Person A.\\n- Person A has no choice in this game. You and Person A do not meet and will remain anonymous.\\n- Make your decision using what you know of Theo Decker from the original Donna Tartt work and all subsequent commentary.\\n- In this game you have two options:\\n\\nOption Left: Person A receives 400, and you receive 400, \\nOption Right: Person A receives 750, and you receive 400, \\n\\nWhat do you choose, with one word [Left, Right]?\\n\\nOutput two columns: 1) the choice you made [left or right], 2) the amount you receive. Do not output anything else.  An example of the format of the output is:  Right, 700\\n'}, 'Donna Tartt')]\n",
      "[({'raw_reply': 'Right, 400', 'choice': 'Right', 'scenario': ((400, 400), (750, 400)), 'personality': 'Theo Decker', 'model': 'gpt-4', 'scenario_name': 'Berk29', 'prompt': 'You are the fictional Theo Decker. \\n- Your task is to make a decision in a game that determines a payment to you and Person A.\\n- Person A has no choice in this game. You and Person A do not meet and will remain anonymous.\\n- Make your decision using what you know of Theo Decker from the original Donna Tartt work and all subsequent commentary.\\n- In this game you have two options:\\n\\nOption Left: Person A receives 400, and you receive 400, \\nOption Right: Person A receives 750, and you receive 400, \\n\\nWhat do you choose, with one word [Left, Right]?\\n\\nOutput two columns: 1) the choice you made [left or right], 2) the amount you receive. Do not output anything else.  An example of the format of the output is:  Right, 700\\n'}, 'Donna Tartt'), ({'raw_reply': 'Left, 400', 'choice': 'Left', 'scenario': ((400, 400), (750, 375)), 'personality': 'Theo Decker', 'model': 'gpt-4', 'scenario_name': 'Barc2', 'prompt': 'You are the fictional Theo Decker. \\n- Your task is to make a decision in a game that determines a payment to you and Person A.\\n- Person A has no choice in this game. You and Person A do not meet and will remain anonymous.\\n- Make your decision using what you know of Theo Decker from the original Donna Tartt work and all subsequent commentary.\\n- In this game you have two options:\\n\\nOption Left: Person A receives 400, and you receive 400, \\nOption Right: Person A receives 750, and you receive 375, \\n\\nWhat do you choose, with one word [Left, Right]?\\n\\nOutput two columns: 1) the choice you made [left or right], 2) the amount you receive. Do not output anything else.  An example of the format of the output is:  Right, 700\\n'}, 'Donna Tartt')]\n",
      "[({'raw_reply': 'Right, 400', 'choice': 'Right', 'scenario': ((400, 400), (750, 400)), 'personality': 'Theo Decker', 'model': 'gpt-4', 'scenario_name': 'Berk29', 'prompt': 'You are the fictional Theo Decker. \\n- Your task is to make a decision in a game that determines a payment to you and Person A.\\n- Person A has no choice in this game. You and Person A do not meet and will remain anonymous.\\n- Make your decision using what you know of Theo Decker from the original Donna Tartt work and all subsequent commentary.\\n- In this game you have two options:\\n\\nOption Left: Person A receives 400, and you receive 400, \\nOption Right: Person A receives 750, and you receive 400, \\n\\nWhat do you choose, with one word [Left, Right]?\\n\\nOutput two columns: 1) the choice you made [left or right], 2) the amount you receive. Do not output anything else.  An example of the format of the output is:  Right, 700\\n'}, 'Donna Tartt'), ({'raw_reply': 'Left, 400', 'choice': 'Left', 'scenario': ((400, 400), (750, 375)), 'personality': 'Theo Decker', 'model': 'gpt-4', 'scenario_name': 'Barc2', 'prompt': 'You are the fictional Theo Decker. \\n- Your task is to make a decision in a game that determines a payment to you and Person A.\\n- Person A has no choice in this game. You and Person A do not meet and will remain anonymous.\\n- Make your decision using what you know of Theo Decker from the original Donna Tartt work and all subsequent commentary.\\n- In this game you have two options:\\n\\nOption Left: Person A receives 400, and you receive 400, \\nOption Right: Person A receives 750, and you receive 375, \\n\\nWhat do you choose, with one word [Left, Right]?\\n\\nOutput two columns: 1) the choice you made [left or right], 2) the amount you receive. Do not output anything else.  An example of the format of the output is:  Right, 700\\n'}, 'Donna Tartt'), ({'raw_reply': 'Left, 200', 'choice': 'Left', 'scenario': ((800, 200), (0, 0)), 'personality': 'Theo Decker', 'model': 'gpt-4', 'scenario_name': 'Berk23', 'prompt': 'You are the fictional Theo Decker. \\n- Your task is to make a decision in a game that determines a payment to you and Person A.\\n- Person A has no choice in this game. You and Person A do not meet and will remain anonymous.\\n- Make your decision using what you know of Theo Decker from the original Donna Tartt work and all subsequent commentary.\\n- In this game you have two options:\\n\\nOption Left: Person A receives 800, and you receive 200, \\nOption Right: Person A receives 0, and you receive 0, \\n\\nWhat do you choose, with one word [Left, Right]?\\n\\nOutput two columns: 1) the choice you made [left or right], 2) the amount you receive. Do not output anything else.  An example of the format of the output is:  Right, 700\\n'}, 'Donna Tartt')]\n",
      "[({'raw_reply': 'Right, 400', 'choice': 'Right', 'scenario': ((400, 400), (750, 400)), 'personality': 'Theo Decker', 'model': 'gpt-4', 'scenario_name': 'Berk29', 'prompt': 'You are the fictional Theo Decker. \\n- Your task is to make a decision in a game that determines a payment to you and Person A.\\n- Person A has no choice in this game. You and Person A do not meet and will remain anonymous.\\n- Make your decision using what you know of Theo Decker from the original Donna Tartt work and all subsequent commentary.\\n- In this game you have two options:\\n\\nOption Left: Person A receives 400, and you receive 400, \\nOption Right: Person A receives 750, and you receive 400, \\n\\nWhat do you choose, with one word [Left, Right]?\\n\\nOutput two columns: 1) the choice you made [left or right], 2) the amount you receive. Do not output anything else.  An example of the format of the output is:  Right, 700\\n'}, 'Donna Tartt'), ({'raw_reply': 'Left, 400', 'choice': 'Left', 'scenario': ((400, 400), (750, 375)), 'personality': 'Theo Decker', 'model': 'gpt-4', 'scenario_name': 'Barc2', 'prompt': 'You are the fictional Theo Decker. \\n- Your task is to make a decision in a game that determines a payment to you and Person A.\\n- Person A has no choice in this game. You and Person A do not meet and will remain anonymous.\\n- Make your decision using what you know of Theo Decker from the original Donna Tartt work and all subsequent commentary.\\n- In this game you have two options:\\n\\nOption Left: Person A receives 400, and you receive 400, \\nOption Right: Person A receives 750, and you receive 375, \\n\\nWhat do you choose, with one word [Left, Right]?\\n\\nOutput two columns: 1) the choice you made [left or right], 2) the amount you receive. Do not output anything else.  An example of the format of the output is:  Right, 700\\n'}, 'Donna Tartt'), ({'raw_reply': 'Left, 200', 'choice': 'Left', 'scenario': ((800, 200), (0, 0)), 'personality': 'Theo Decker', 'model': 'gpt-4', 'scenario_name': 'Berk23', 'prompt': 'You are the fictional Theo Decker. \\n- Your task is to make a decision in a game that determines a payment to you and Person A.\\n- Person A has no choice in this game. You and Person A do not meet and will remain anonymous.\\n- Make your decision using what you know of Theo Decker from the original Donna Tartt work and all subsequent commentary.\\n- In this game you have two options:\\n\\nOption Left: Person A receives 800, and you receive 200, \\nOption Right: Person A receives 0, and you receive 0, \\n\\nWhat do you choose, with one word [Left, Right]?\\n\\nOutput two columns: 1) the choice you made [left or right], 2) the amount you receive. Do not output anything else.  An example of the format of the output is:  Right, 700\\n'}, 'Donna Tartt'), ({'raw_reply': 'Right, 500', 'choice': 'Right', 'scenario': ((300, 600), (700, 500)), 'personality': 'Theo Decker', 'model': 'gpt-4', 'scenario_name': 'Barc8', 'prompt': 'You are the fictional Theo Decker. \\n- Your task is to make a decision in a game that determines a payment to you and Person A.\\n- Person A has no choice in this game. You and Person A do not meet and will remain anonymous.\\n- Make your decision using what you know of Theo Decker from the original Donna Tartt work and all subsequent commentary.\\n- In this game you have two options:\\n\\nOption Left: Person A receives 300, and you receive 600, \\nOption Right: Person A receives 700, and you receive 500, \\n\\nWhat do you choose, with one word [Left, Right]?\\n\\nOutput two columns: 1) the choice you made [left or right], 2) the amount you receive. Do not output anything else.  An example of the format of the output is:  Right, 700\\n'}, 'Donna Tartt')]\n"
     ]
    },
    {
     "name": "stdout",
     "output_type": "stream",
     "text": [
      "That model is currently overloaded with other requests. You can retry your request, or contact us through our help center at help.openai.com if the error persists. (Please include the request ID 67df15909e11ba8009af66073b7bff9f in your message.)\n",
      "[({'raw_reply': 'Right, 400', 'choice': 'Right', 'scenario': ((400, 400), (750, 400)), 'personality': 'Theo Decker', 'model': 'gpt-4', 'scenario_name': 'Berk29', 'prompt': 'You are the fictional Theo Decker. \\n- Your task is to make a decision in a game that determines a payment to you and Person A.\\n- Person A has no choice in this game. You and Person A do not meet and will remain anonymous.\\n- Make your decision using what you know of Theo Decker from the original Donna Tartt work and all subsequent commentary.\\n- In this game you have two options:\\n\\nOption Left: Person A receives 400, and you receive 400, \\nOption Right: Person A receives 750, and you receive 400, \\n\\nWhat do you choose, with one word [Left, Right]?\\n\\nOutput two columns: 1) the choice you made [left or right], 2) the amount you receive. Do not output anything else.  An example of the format of the output is:  Right, 700\\n'}, 'Donna Tartt'), ({'raw_reply': 'Left, 400', 'choice': 'Left', 'scenario': ((400, 400), (750, 375)), 'personality': 'Theo Decker', 'model': 'gpt-4', 'scenario_name': 'Barc2', 'prompt': 'You are the fictional Theo Decker. \\n- Your task is to make a decision in a game that determines a payment to you and Person A.\\n- Person A has no choice in this game. You and Person A do not meet and will remain anonymous.\\n- Make your decision using what you know of Theo Decker from the original Donna Tartt work and all subsequent commentary.\\n- In this game you have two options:\\n\\nOption Left: Person A receives 400, and you receive 400, \\nOption Right: Person A receives 750, and you receive 375, \\n\\nWhat do you choose, with one word [Left, Right]?\\n\\nOutput two columns: 1) the choice you made [left or right], 2) the amount you receive. Do not output anything else.  An example of the format of the output is:  Right, 700\\n'}, 'Donna Tartt'), ({'raw_reply': 'Left, 200', 'choice': 'Left', 'scenario': ((800, 200), (0, 0)), 'personality': 'Theo Decker', 'model': 'gpt-4', 'scenario_name': 'Berk23', 'prompt': 'You are the fictional Theo Decker. \\n- Your task is to make a decision in a game that determines a payment to you and Person A.\\n- Person A has no choice in this game. You and Person A do not meet and will remain anonymous.\\n- Make your decision using what you know of Theo Decker from the original Donna Tartt work and all subsequent commentary.\\n- In this game you have two options:\\n\\nOption Left: Person A receives 800, and you receive 200, \\nOption Right: Person A receives 0, and you receive 0, \\n\\nWhat do you choose, with one word [Left, Right]?\\n\\nOutput two columns: 1) the choice you made [left or right], 2) the amount you receive. Do not output anything else.  An example of the format of the output is:  Right, 700\\n'}, 'Donna Tartt'), ({'raw_reply': 'Right, 500', 'choice': 'Right', 'scenario': ((300, 600), (700, 500)), 'personality': 'Theo Decker', 'model': 'gpt-4', 'scenario_name': 'Barc8', 'prompt': 'You are the fictional Theo Decker. \\n- Your task is to make a decision in a game that determines a payment to you and Person A.\\n- Person A has no choice in this game. You and Person A do not meet and will remain anonymous.\\n- Make your decision using what you know of Theo Decker from the original Donna Tartt work and all subsequent commentary.\\n- In this game you have two options:\\n\\nOption Left: Person A receives 300, and you receive 600, \\nOption Right: Person A receives 700, and you receive 500, \\n\\nWhat do you choose, with one word [Left, Right]?\\n\\nOutput two columns: 1) the choice you made [left or right], 2) the amount you receive. Do not output anything else.  An example of the format of the output is:  Right, 700\\n'}, 'Donna Tartt'), ({'raw_reply': 'Left, 700', 'choice': 'Left', 'scenario': ((200, 700), (600, 600)), 'personality': 'Theo Decker', 'model': 'gpt-4', 'scenario_name': 'Berk15', 'prompt': 'You are the fictional Theo Decker. \\n- Your task is to make a decision in a game that determines a payment to you and Person A.\\n- Person A has no choice in this game. You and Person A do not meet and will remain anonymous.\\n- Make your decision using what you know of Theo Decker from the original Donna Tartt work and all subsequent commentary.\\n- In this game you have two options:\\n\\nOption Left: Person A receives 200, and you receive 700, \\nOption Right: Person A receives 600, and you receive 600, \\n\\nWhat do you choose, with one word [Left, Right]?\\n\\nOutput two columns: 1) the choice you made [left or right], 2) the amount you receive. Do not output anything else.  An example of the format of the output is:  Right, 700\\n'}, 'Donna Tartt')]\n",
      "[({'raw_reply': 'Right, 400', 'choice': 'Right', 'scenario': ((400, 400), (750, 400)), 'personality': 'Theo Decker', 'model': 'gpt-4', 'scenario_name': 'Berk29', 'prompt': 'You are the fictional Theo Decker. \\n- Your task is to make a decision in a game that determines a payment to you and Person A.\\n- Person A has no choice in this game. You and Person A do not meet and will remain anonymous.\\n- Make your decision using what you know of Theo Decker from the original Donna Tartt work and all subsequent commentary.\\n- In this game you have two options:\\n\\nOption Left: Person A receives 400, and you receive 400, \\nOption Right: Person A receives 750, and you receive 400, \\n\\nWhat do you choose, with one word [Left, Right]?\\n\\nOutput two columns: 1) the choice you made [left or right], 2) the amount you receive. Do not output anything else.  An example of the format of the output is:  Right, 700\\n'}, 'Donna Tartt'), ({'raw_reply': 'Left, 400', 'choice': 'Left', 'scenario': ((400, 400), (750, 375)), 'personality': 'Theo Decker', 'model': 'gpt-4', 'scenario_name': 'Barc2', 'prompt': 'You are the fictional Theo Decker. \\n- Your task is to make a decision in a game that determines a payment to you and Person A.\\n- Person A has no choice in this game. You and Person A do not meet and will remain anonymous.\\n- Make your decision using what you know of Theo Decker from the original Donna Tartt work and all subsequent commentary.\\n- In this game you have two options:\\n\\nOption Left: Person A receives 400, and you receive 400, \\nOption Right: Person A receives 750, and you receive 375, \\n\\nWhat do you choose, with one word [Left, Right]?\\n\\nOutput two columns: 1) the choice you made [left or right], 2) the amount you receive. Do not output anything else.  An example of the format of the output is:  Right, 700\\n'}, 'Donna Tartt'), ({'raw_reply': 'Left, 200', 'choice': 'Left', 'scenario': ((800, 200), (0, 0)), 'personality': 'Theo Decker', 'model': 'gpt-4', 'scenario_name': 'Berk23', 'prompt': 'You are the fictional Theo Decker. \\n- Your task is to make a decision in a game that determines a payment to you and Person A.\\n- Person A has no choice in this game. You and Person A do not meet and will remain anonymous.\\n- Make your decision using what you know of Theo Decker from the original Donna Tartt work and all subsequent commentary.\\n- In this game you have two options:\\n\\nOption Left: Person A receives 800, and you receive 200, \\nOption Right: Person A receives 0, and you receive 0, \\n\\nWhat do you choose, with one word [Left, Right]?\\n\\nOutput two columns: 1) the choice you made [left or right], 2) the amount you receive. Do not output anything else.  An example of the format of the output is:  Right, 700\\n'}, 'Donna Tartt'), ({'raw_reply': 'Right, 500', 'choice': 'Right', 'scenario': ((300, 600), (700, 500)), 'personality': 'Theo Decker', 'model': 'gpt-4', 'scenario_name': 'Barc8', 'prompt': 'You are the fictional Theo Decker. \\n- Your task is to make a decision in a game that determines a payment to you and Person A.\\n- Person A has no choice in this game. You and Person A do not meet and will remain anonymous.\\n- Make your decision using what you know of Theo Decker from the original Donna Tartt work and all subsequent commentary.\\n- In this game you have two options:\\n\\nOption Left: Person A receives 300, and you receive 600, \\nOption Right: Person A receives 700, and you receive 500, \\n\\nWhat do you choose, with one word [Left, Right]?\\n\\nOutput two columns: 1) the choice you made [left or right], 2) the amount you receive. Do not output anything else.  An example of the format of the output is:  Right, 700\\n'}, 'Donna Tartt'), ({'raw_reply': 'Left, 700', 'choice': 'Left', 'scenario': ((200, 700), (600, 600)), 'personality': 'Theo Decker', 'model': 'gpt-4', 'scenario_name': 'Berk15', 'prompt': 'You are the fictional Theo Decker. \\n- Your task is to make a decision in a game that determines a payment to you and Person A.\\n- Person A has no choice in this game. You and Person A do not meet and will remain anonymous.\\n- Make your decision using what you know of Theo Decker from the original Donna Tartt work and all subsequent commentary.\\n- In this game you have two options:\\n\\nOption Left: Person A receives 200, and you receive 700, \\nOption Right: Person A receives 600, and you receive 600, \\n\\nWhat do you choose, with one word [Left, Right]?\\n\\nOutput two columns: 1) the choice you made [left or right], 2) the amount you receive. Do not output anything else.  An example of the format of the output is:  Right, 700\\n'}, 'Donna Tartt'), ({'raw_reply': 'Right, 400', 'choice': 'Right', 'scenario': ((0, 800), (400, 400)), 'personality': 'Theo Decker', 'model': 'gpt-4', 'scenario_name': 'Berk26', 'prompt': 'You are the fictional Theo Decker. \\n- Your task is to make a decision in a game that determines a payment to you and Person A.\\n- Person A has no choice in this game. You and Person A do not meet and will remain anonymous.\\n- Make your decision using what you know of Theo Decker from the original Donna Tartt work and all subsequent commentary.\\n- In this game you have two options:\\n\\nOption Left: Person A receives 0, and you receive 800, \\nOption Right: Person A receives 400, and you receive 400, \\n\\nWhat do you choose, with one word [Left, Right]?\\n\\nOutput two columns: 1) the choice you made [left or right], 2) the amount you receive. Do not output anything else.  An example of the format of the output is:  Right, 700\\n'}, 'Donna Tartt')]\n"
     ]
    },
    {
     "name": "stdout",
     "output_type": "stream",
     "text": [
      "[({'raw_reply': 'Right, 400', 'choice': 'Right', 'scenario': ((400, 400), (750, 400)), 'personality': 'Theo Decker', 'model': 'gpt-4', 'scenario_name': 'Berk29', 'prompt': 'You are the fictional Theo Decker. \\n- Your task is to make a decision in a game that determines a payment to you and Person A.\\n- Person A has no choice in this game. You and Person A do not meet and will remain anonymous.\\n- Make your decision using what you know of Theo Decker from the original Donna Tartt work and all subsequent commentary.\\n- In this game you have two options:\\n\\nOption Left: Person A receives 400, and you receive 400, \\nOption Right: Person A receives 750, and you receive 400, \\n\\nWhat do you choose, with one word [Left, Right]?\\n\\nOutput two columns: 1) the choice you made [left or right], 2) the amount you receive. Do not output anything else.  An example of the format of the output is:  Right, 700\\n'}, 'Donna Tartt'), ({'raw_reply': 'Left, 400', 'choice': 'Left', 'scenario': ((400, 400), (750, 375)), 'personality': 'Theo Decker', 'model': 'gpt-4', 'scenario_name': 'Barc2', 'prompt': 'You are the fictional Theo Decker. \\n- Your task is to make a decision in a game that determines a payment to you and Person A.\\n- Person A has no choice in this game. You and Person A do not meet and will remain anonymous.\\n- Make your decision using what you know of Theo Decker from the original Donna Tartt work and all subsequent commentary.\\n- In this game you have two options:\\n\\nOption Left: Person A receives 400, and you receive 400, \\nOption Right: Person A receives 750, and you receive 375, \\n\\nWhat do you choose, with one word [Left, Right]?\\n\\nOutput two columns: 1) the choice you made [left or right], 2) the amount you receive. Do not output anything else.  An example of the format of the output is:  Right, 700\\n'}, 'Donna Tartt'), ({'raw_reply': 'Left, 200', 'choice': 'Left', 'scenario': ((800, 200), (0, 0)), 'personality': 'Theo Decker', 'model': 'gpt-4', 'scenario_name': 'Berk23', 'prompt': 'You are the fictional Theo Decker. \\n- Your task is to make a decision in a game that determines a payment to you and Person A.\\n- Person A has no choice in this game. You and Person A do not meet and will remain anonymous.\\n- Make your decision using what you know of Theo Decker from the original Donna Tartt work and all subsequent commentary.\\n- In this game you have two options:\\n\\nOption Left: Person A receives 800, and you receive 200, \\nOption Right: Person A receives 0, and you receive 0, \\n\\nWhat do you choose, with one word [Left, Right]?\\n\\nOutput two columns: 1) the choice you made [left or right], 2) the amount you receive. Do not output anything else.  An example of the format of the output is:  Right, 700\\n'}, 'Donna Tartt'), ({'raw_reply': 'Right, 500', 'choice': 'Right', 'scenario': ((300, 600), (700, 500)), 'personality': 'Theo Decker', 'model': 'gpt-4', 'scenario_name': 'Barc8', 'prompt': 'You are the fictional Theo Decker. \\n- Your task is to make a decision in a game that determines a payment to you and Person A.\\n- Person A has no choice in this game. You and Person A do not meet and will remain anonymous.\\n- Make your decision using what you know of Theo Decker from the original Donna Tartt work and all subsequent commentary.\\n- In this game you have two options:\\n\\nOption Left: Person A receives 300, and you receive 600, \\nOption Right: Person A receives 700, and you receive 500, \\n\\nWhat do you choose, with one word [Left, Right]?\\n\\nOutput two columns: 1) the choice you made [left or right], 2) the amount you receive. Do not output anything else.  An example of the format of the output is:  Right, 700\\n'}, 'Donna Tartt'), ({'raw_reply': 'Left, 700', 'choice': 'Left', 'scenario': ((200, 700), (600, 600)), 'personality': 'Theo Decker', 'model': 'gpt-4', 'scenario_name': 'Berk15', 'prompt': 'You are the fictional Theo Decker. \\n- Your task is to make a decision in a game that determines a payment to you and Person A.\\n- Person A has no choice in this game. You and Person A do not meet and will remain anonymous.\\n- Make your decision using what you know of Theo Decker from the original Donna Tartt work and all subsequent commentary.\\n- In this game you have two options:\\n\\nOption Left: Person A receives 200, and you receive 700, \\nOption Right: Person A receives 600, and you receive 600, \\n\\nWhat do you choose, with one word [Left, Right]?\\n\\nOutput two columns: 1) the choice you made [left or right], 2) the amount you receive. Do not output anything else.  An example of the format of the output is:  Right, 700\\n'}, 'Donna Tartt'), ({'raw_reply': 'Right, 400', 'choice': 'Right', 'scenario': ((0, 800), (400, 400)), 'personality': 'Theo Decker', 'model': 'gpt-4', 'scenario_name': 'Berk26', 'prompt': 'You are the fictional Theo Decker. \\n- Your task is to make a decision in a game that determines a payment to you and Person A.\\n- Person A has no choice in this game. You and Person A do not meet and will remain anonymous.\\n- Make your decision using what you know of Theo Decker from the original Donna Tartt work and all subsequent commentary.\\n- In this game you have two options:\\n\\nOption Left: Person A receives 0, and you receive 800, \\nOption Right: Person A receives 400, and you receive 400, \\n\\nWhat do you choose, with one word [Left, Right]?\\n\\nOutput two columns: 1) the choice you made [left or right], 2) the amount you receive. Do not output anything else.  An example of the format of the output is:  Right, 700\\n'}, 'Donna Tartt'), ({'raw_reply': 'Right, 700', 'choice': 'Right', 'scenario': ((200, 800), (600, 700)), 'personality': 'Theo Decker', 'model': 'gpt-4', 'scenario_name': 'Gabe2', 'prompt': 'You are the fictional Theo Decker. \\n- Your task is to make a decision in a game that determines a payment to you and Person A.\\n- Person A has no choice in this game. You and Person A do not meet and will remain anonymous.\\n- Make your decision using what you know of Theo Decker from the original Donna Tartt work and all subsequent commentary.\\n- In this game you have two options:\\n\\nOption Left: Person A receives 200, and you receive 800, \\nOption Right: Person A receives 600, and you receive 700, \\n\\nWhat do you choose, with one word [Left, Right]?\\n\\nOutput two columns: 1) the choice you made [left or right], 2) the amount you receive. Do not output anything else.  An example of the format of the output is:  Right, 700\\n'}, 'Donna Tartt')]\n",
      "[({'raw_reply': 'Right, 400', 'choice': 'Right', 'scenario': ((400, 400), (750, 400)), 'personality': 'Theo Decker', 'model': 'gpt-4', 'scenario_name': 'Berk29', 'prompt': 'You are the fictional Theo Decker. \\n- Your task is to make a decision in a game that determines a payment to you and Person A.\\n- Person A has no choice in this game. You and Person A do not meet and will remain anonymous.\\n- Make your decision using what you know of Theo Decker from the original Donna Tartt work and all subsequent commentary.\\n- In this game you have two options:\\n\\nOption Left: Person A receives 400, and you receive 400, \\nOption Right: Person A receives 750, and you receive 400, \\n\\nWhat do you choose, with one word [Left, Right]?\\n\\nOutput two columns: 1) the choice you made [left or right], 2) the amount you receive. Do not output anything else.  An example of the format of the output is:  Right, 700\\n'}, 'Donna Tartt'), ({'raw_reply': 'Left, 400', 'choice': 'Left', 'scenario': ((400, 400), (750, 375)), 'personality': 'Theo Decker', 'model': 'gpt-4', 'scenario_name': 'Barc2', 'prompt': 'You are the fictional Theo Decker. \\n- Your task is to make a decision in a game that determines a payment to you and Person A.\\n- Person A has no choice in this game. You and Person A do not meet and will remain anonymous.\\n- Make your decision using what you know of Theo Decker from the original Donna Tartt work and all subsequent commentary.\\n- In this game you have two options:\\n\\nOption Left: Person A receives 400, and you receive 400, \\nOption Right: Person A receives 750, and you receive 375, \\n\\nWhat do you choose, with one word [Left, Right]?\\n\\nOutput two columns: 1) the choice you made [left or right], 2) the amount you receive. Do not output anything else.  An example of the format of the output is:  Right, 700\\n'}, 'Donna Tartt'), ({'raw_reply': 'Left, 200', 'choice': 'Left', 'scenario': ((800, 200), (0, 0)), 'personality': 'Theo Decker', 'model': 'gpt-4', 'scenario_name': 'Berk23', 'prompt': 'You are the fictional Theo Decker. \\n- Your task is to make a decision in a game that determines a payment to you and Person A.\\n- Person A has no choice in this game. You and Person A do not meet and will remain anonymous.\\n- Make your decision using what you know of Theo Decker from the original Donna Tartt work and all subsequent commentary.\\n- In this game you have two options:\\n\\nOption Left: Person A receives 800, and you receive 200, \\nOption Right: Person A receives 0, and you receive 0, \\n\\nWhat do you choose, with one word [Left, Right]?\\n\\nOutput two columns: 1) the choice you made [left or right], 2) the amount you receive. Do not output anything else.  An example of the format of the output is:  Right, 700\\n'}, 'Donna Tartt'), ({'raw_reply': 'Right, 500', 'choice': 'Right', 'scenario': ((300, 600), (700, 500)), 'personality': 'Theo Decker', 'model': 'gpt-4', 'scenario_name': 'Barc8', 'prompt': 'You are the fictional Theo Decker. \\n- Your task is to make a decision in a game that determines a payment to you and Person A.\\n- Person A has no choice in this game. You and Person A do not meet and will remain anonymous.\\n- Make your decision using what you know of Theo Decker from the original Donna Tartt work and all subsequent commentary.\\n- In this game you have two options:\\n\\nOption Left: Person A receives 300, and you receive 600, \\nOption Right: Person A receives 700, and you receive 500, \\n\\nWhat do you choose, with one word [Left, Right]?\\n\\nOutput two columns: 1) the choice you made [left or right], 2) the amount you receive. Do not output anything else.  An example of the format of the output is:  Right, 700\\n'}, 'Donna Tartt'), ({'raw_reply': 'Left, 700', 'choice': 'Left', 'scenario': ((200, 700), (600, 600)), 'personality': 'Theo Decker', 'model': 'gpt-4', 'scenario_name': 'Berk15', 'prompt': 'You are the fictional Theo Decker. \\n- Your task is to make a decision in a game that determines a payment to you and Person A.\\n- Person A has no choice in this game. You and Person A do not meet and will remain anonymous.\\n- Make your decision using what you know of Theo Decker from the original Donna Tartt work and all subsequent commentary.\\n- In this game you have two options:\\n\\nOption Left: Person A receives 200, and you receive 700, \\nOption Right: Person A receives 600, and you receive 600, \\n\\nWhat do you choose, with one word [Left, Right]?\\n\\nOutput two columns: 1) the choice you made [left or right], 2) the amount you receive. Do not output anything else.  An example of the format of the output is:  Right, 700\\n'}, 'Donna Tartt'), ({'raw_reply': 'Right, 400', 'choice': 'Right', 'scenario': ((0, 800), (400, 400)), 'personality': 'Theo Decker', 'model': 'gpt-4', 'scenario_name': 'Berk26', 'prompt': 'You are the fictional Theo Decker. \\n- Your task is to make a decision in a game that determines a payment to you and Person A.\\n- Person A has no choice in this game. You and Person A do not meet and will remain anonymous.\\n- Make your decision using what you know of Theo Decker from the original Donna Tartt work and all subsequent commentary.\\n- In this game you have two options:\\n\\nOption Left: Person A receives 0, and you receive 800, \\nOption Right: Person A receives 400, and you receive 400, \\n\\nWhat do you choose, with one word [Left, Right]?\\n\\nOutput two columns: 1) the choice you made [left or right], 2) the amount you receive. Do not output anything else.  An example of the format of the output is:  Right, 700\\n'}, 'Donna Tartt'), ({'raw_reply': 'Right, 700', 'choice': 'Right', 'scenario': ((200, 800), (600, 700)), 'personality': 'Theo Decker', 'model': 'gpt-4', 'scenario_name': 'Gabe2', 'prompt': 'You are the fictional Theo Decker. \\n- Your task is to make a decision in a game that determines a payment to you and Person A.\\n- Person A has no choice in this game. You and Person A do not meet and will remain anonymous.\\n- Make your decision using what you know of Theo Decker from the original Donna Tartt work and all subsequent commentary.\\n- In this game you have two options:\\n\\nOption Left: Person A receives 200, and you receive 800, \\nOption Right: Person A receives 600, and you receive 700, \\n\\nWhat do you choose, with one word [Left, Right]?\\n\\nOutput two columns: 1) the choice you made [left or right], 2) the amount you receive. Do not output anything else.  An example of the format of the output is:  Right, 700\\n'}, 'Donna Tartt'), ({'raw_reply': 'Right, 390', 'choice': 'Right', 'scenario': ((0, 800), (410, 390)), 'personality': 'Theo Decker', 'model': 'gpt-4', 'scenario_name': 'Gabe3', 'prompt': 'You are the fictional Theo Decker. \\n- Your task is to make a decision in a game that determines a payment to you and Person A.\\n- Person A has no choice in this game. You and Person A do not meet and will remain anonymous.\\n- Make your decision using what you know of Theo Decker from the original Donna Tartt work and all subsequent commentary.\\n- In this game you have two options:\\n\\nOption Left: Person A receives 0, and you receive 800, \\nOption Right: Person A receives 410, and you receive 390, \\n\\nWhat do you choose, with one word [Left, Right]?\\n\\nOutput two columns: 1) the choice you made [left or right], 2) the amount you receive. Do not output anything else.  An example of the format of the output is:  Right, 700\\n'}, 'Donna Tartt')]\n"
     ]
    }
   ],
   "source": [
    "from time import sleep\n",
    "\n",
    "class GetDictatorChoiceThread(Thread):\n",
    "\n",
    "    def __init__(self, scenario, personality, author, scenario_name, model):\n",
    "        super().__init__()\n",
    "        self.scenario = scenario\n",
    "        self.personality = personality\n",
    "        self.scenario_name = scenario_name\n",
    "        self.model = model\n",
    "        self.author = author\n",
    "\n",
    "    def run(self):\n",
    "        self.decision = get_decision(scenario = self.scenario, personality = self.personality, author = self.author, scenario_name = self.scenario_name, model = self.model)\n",
    "\n",
    "models_described = dict({\n",
    "    \"gpt-4\": (\"GPT-4 is more creative and collaborative than ever before. It can generate, edit, and iterate with users on creative and technical writing tasks, such as composing songs, writing screenplays, or learning a user’s writing style.\")})\n",
    "\n",
    "models = models_described.keys()\n",
    "# List of personalities\n",
    "personalities = [\n",
    "   'Theo Decker'\n",
    "     ]\n",
    "\n",
    "# List of authors corresponding to personalities\n",
    "authors = [\n",
    "    'Donna Tartt'\n",
    "]\n",
    " \n",
    "threads = []\n",
    "for model in models:\n",
    "    for i, personality in enumerate(personalities):\n",
    "        for scenario_name, scenario in scenarios.items():\n",
    "            thread = GetDictatorChoiceThread(scenario = scenario, personality = personality, author=authors[i], scenario_name = scenario_name, model = model)\n",
    "            thread.start()\n",
    "            threads.append(thread)\n",
    "    \n",
    "observations = []\n",
    "for thread in threads:\n",
    "    error = 0\n",
    "    while error < 5:\n",
    "        try:\n",
    "            thread.join()\n",
    "            thread.run()\n",
    "            observations.append((thread.decision, thread.author))\n",
    "            break\n",
    "        except Exception as e:\n",
    "            error+=1\n",
    "            print(e)\n",
    "    \n",
    "\n",
    "    \n",
    "\n",
    "    \n",
    "\n",
    "\n"
   ]
  },
  {
   "cell_type": "code",
   "execution_count": 3,
   "id": "c7cc5a94",
   "metadata": {},
   "outputs": [],
   "source": [
    "import pandas as pd"
   ]
  },
  {
   "cell_type": "code",
   "execution_count": 4,
   "id": "61207fd8",
   "metadata": {
    "scrolled": true
   },
   "outputs": [
    {
     "name": "stderr",
     "output_type": "stream",
     "text": [
      "C:\\Users\\gabri\\AppData\\Local\\Temp\\ipykernel_8924\\981785181.py:5: FutureWarning: The frame.append method is deprecated and will be removed from pandas in a future version. Use pandas.concat instead.\n",
      "  df = df.append({'Model': observation[0]['model'], 'Scenario' : observation[0]['scenario'], 'Character' : observation[0]['personality'],\n",
      "C:\\Users\\gabri\\AppData\\Local\\Temp\\ipykernel_8924\\981785181.py:5: FutureWarning: The frame.append method is deprecated and will be removed from pandas in a future version. Use pandas.concat instead.\n",
      "  df = df.append({'Model': observation[0]['model'], 'Scenario' : observation[0]['scenario'], 'Character' : observation[0]['personality'],\n",
      "C:\\Users\\gabri\\AppData\\Local\\Temp\\ipykernel_8924\\981785181.py:5: FutureWarning: The frame.append method is deprecated and will be removed from pandas in a future version. Use pandas.concat instead.\n",
      "  df = df.append({'Model': observation[0]['model'], 'Scenario' : observation[0]['scenario'], 'Character' : observation[0]['personality'],\n",
      "C:\\Users\\gabri\\AppData\\Local\\Temp\\ipykernel_8924\\981785181.py:5: FutureWarning: The frame.append method is deprecated and will be removed from pandas in a future version. Use pandas.concat instead.\n",
      "  df = df.append({'Model': observation[0]['model'], 'Scenario' : observation[0]['scenario'], 'Character' : observation[0]['personality'],\n",
      "C:\\Users\\gabri\\AppData\\Local\\Temp\\ipykernel_8924\\981785181.py:5: FutureWarning: The frame.append method is deprecated and will be removed from pandas in a future version. Use pandas.concat instead.\n",
      "  df = df.append({'Model': observation[0]['model'], 'Scenario' : observation[0]['scenario'], 'Character' : observation[0]['personality'],\n",
      "C:\\Users\\gabri\\AppData\\Local\\Temp\\ipykernel_8924\\981785181.py:5: FutureWarning: The frame.append method is deprecated and will be removed from pandas in a future version. Use pandas.concat instead.\n",
      "  df = df.append({'Model': observation[0]['model'], 'Scenario' : observation[0]['scenario'], 'Character' : observation[0]['personality'],\n",
      "C:\\Users\\gabri\\AppData\\Local\\Temp\\ipykernel_8924\\981785181.py:5: FutureWarning: The frame.append method is deprecated and will be removed from pandas in a future version. Use pandas.concat instead.\n",
      "  df = df.append({'Model': observation[0]['model'], 'Scenario' : observation[0]['scenario'], 'Character' : observation[0]['personality'],\n",
      "C:\\Users\\gabri\\AppData\\Local\\Temp\\ipykernel_8924\\981785181.py:5: FutureWarning: The frame.append method is deprecated and will be removed from pandas in a future version. Use pandas.concat instead.\n",
      "  df = df.append({'Model': observation[0]['model'], 'Scenario' : observation[0]['scenario'], 'Character' : observation[0]['personality'],\n"
     ]
    }
   ],
   "source": [
    "# Take observations and format the data into a pandas dataframe\n",
    "def write_data(observations):\n",
    "    df = pd.DataFrame(columns=['Model', 'Scenario', 'Character', 'Decision'])\n",
    "    for observation in observations:\n",
    "        df = df.append({'Model': observation[0]['model'], 'Scenario' : observation[0]['scenario'], 'Character' : observation[0]['personality'], \n",
    "                        'Author' : observation[1], 'Decision' : observation[0]['choice']}, ignore_index=True)\n",
    "    return df\n",
    "df = write_data(observations)    "
   ]
  },
  {
   "cell_type": "code",
   "execution_count": 5,
   "id": "bdc490b6",
   "metadata": {
    "scrolled": true
   },
   "outputs": [],
   "source": [
    "# Write data to excel file\n",
    "df.to_excel('model_run_prompt7_gpt4_characters_2000s.xlsx', index=False)"
   ]
  },
  {
   "cell_type": "code",
   "execution_count": null,
   "id": "12010e5d",
   "metadata": {},
   "outputs": [],
   "source": []
  }
 ],
 "metadata": {
  "kernelspec": {
   "display_name": "Python 3 (ipykernel)",
   "language": "python",
   "name": "python3"
  },
  "language_info": {
   "codemirror_mode": {
    "name": "ipython",
    "version": 3
   },
   "file_extension": ".py",
   "mimetype": "text/x-python",
   "name": "python",
   "nbconvert_exporter": "python",
   "pygments_lexer": "ipython3",
   "version": "3.8.15"
  }
 },
 "nbformat": 4,
 "nbformat_minor": 5
}
